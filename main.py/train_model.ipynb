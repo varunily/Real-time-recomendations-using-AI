{
 "cells": [
  {
   "cell_type": "code",
   "execution_count": null,
   "id": "e7ce9217",
   "metadata": {
    "vscode": {
     "languageId": "plaintext"
    }
   },
   "outputs": [],
   "source": [
    "import pandas as pd\n",
    "from sklearn.neighbors import NearestNeighbors\n",
    "import pickle\n",
    "\n",
    "products = pd.read_csv('../data/products.csv')\n",
    "X = products.drop(['product_id', 'product_name'], axis=1)\n",
    "\n",
    "model = NearestNeighbors(metric='cosine', algorithm='brute')\n",
    "model.fit(X)\n",
    "\n",
    "with open('../app/model.pkl', 'wb') as f:\n",
    "    pickle.dump(model, f)\n"
   ]
  }
 ],
 "metadata": {
  "language_info": {
   "name": "python"
  }
 },
 "nbformat": 4,
 "nbformat_minor": 5
}
